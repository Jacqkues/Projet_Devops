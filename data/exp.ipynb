{
 "cells": [
  {
   "cell_type": "code",
   "execution_count": 62,
   "metadata": {},
   "outputs": [],
   "source": [
    "import pandas as pd\n",
    "from sklearn.preprocessing import StandardScaler"
   ]
  },
  {
   "cell_type": "code",
   "execution_count": 63,
   "metadata": {},
   "outputs": [],
   "source": [
    "df = pd.read_csv('spotify_data.csv')"
   ]
  },
  {
   "cell_type": "code",
   "execution_count": 64,
   "metadata": {},
   "outputs": [
    {
     "data": {
      "text/plain": [
       "trackName              0\n",
       "artistName             0\n",
       "msPlayed               0\n",
       "genre               1500\n",
       "danceability         550\n",
       "energy               550\n",
       "key                  550\n",
       "loudness             550\n",
       "mode                 550\n",
       "speechiness          550\n",
       "acousticness         550\n",
       "instrumentalness     550\n",
       "liveness             550\n",
       "valence              550\n",
       "tempo                550\n",
       "type                 550\n",
       "id                   550\n",
       "uri                  550\n",
       "track_href           550\n",
       "analysis_url         550\n",
       "duration_ms          550\n",
       "time_signature       550\n",
       "dtype: int64"
      ]
     },
     "execution_count": 64,
     "metadata": {},
     "output_type": "execute_result"
    }
   ],
   "source": [
    "#afficher les valeurs null\n",
    "df.isnull().sum()"
   ]
  },
  {
   "cell_type": "code",
   "execution_count": 65,
   "metadata": {},
   "outputs": [
    {
     "data": {
      "text/plain": [
       "trackName            object\n",
       "artistName           object\n",
       "msPlayed              int64\n",
       "genre                object\n",
       "danceability        float64\n",
       "energy              float64\n",
       "key                 float64\n",
       "loudness            float64\n",
       "mode                float64\n",
       "speechiness         float64\n",
       "acousticness        float64\n",
       "instrumentalness    float64\n",
       "liveness            float64\n",
       "valence             float64\n",
       "tempo               float64\n",
       "type                 object\n",
       "id                   object\n",
       "uri                  object\n",
       "track_href           object\n",
       "analysis_url         object\n",
       "duration_ms         float64\n",
       "time_signature      float64\n",
       "dtype: object"
      ]
     },
     "execution_count": 65,
     "metadata": {},
     "output_type": "execute_result"
    }
   ],
   "source": [
    "df.dtypes"
   ]
  },
  {
   "cell_type": "code",
   "execution_count": 66,
   "metadata": {},
   "outputs": [],
   "source": [
    "#changement des genres non connus à inconnu \n",
    "df['genre'].fillna('Inconnu', inplace=True)\n",
    "#suppression des lignes avec des données vides\n",
    "df.dropna(inplace=True)\n",
    "#suppresion des titres en doublons\n",
    "df.drop_duplicates(subset=\"id\",inplace=True)"
   ]
  },
  {
   "cell_type": "code",
   "execution_count": 67,
   "metadata": {},
   "outputs": [],
   "source": [
    "features = ['danceability', 'energy', 'valence', 'tempo', 'acousticness', 'instrumentalness']\n"
   ]
  },
  {
   "cell_type": "code",
   "execution_count": 68,
   "metadata": {},
   "outputs": [],
   "source": [
    "scaler = StandardScaler()\n",
    "df[features] = scaler.fit_transform(df[features])"
   ]
  },
  {
   "cell_type": "code",
   "execution_count": 86,
   "metadata": {},
   "outputs": [
    {
     "name": "stdout",
     "output_type": "stream",
     "text": [
      "trackName                                            Beyond the Waves\n",
      "artistName                                                      Amudo\n",
      "msPlayed                                                       170000\n",
      "genre                                                         Inconnu\n",
      "danceability                                                -0.260316\n",
      "energy                                                      -1.020392\n",
      "key                                                               7.0\n",
      "loudness                                                       -16.88\n",
      "mode                                                              0.0\n",
      "speechiness                                                    0.0622\n",
      "acousticness                                                 1.703799\n",
      "instrumentalness                                             1.854303\n",
      "liveness                                                        0.125\n",
      "valence                                                     -0.888142\n",
      "tempo                                                        1.674371\n",
      "type                                                   audio_features\n",
      "id                                             6uB4JeqeiGxYn1pswrC7rX\n",
      "uri                              spotify:track:6uB4JeqeiGxYn1pswrC7rX\n",
      "track_href          https://api.spotify.com/v1/tracks/6uB4JeqeiGxY...\n",
      "analysis_url        https://api.spotify.com/v1/audio-analysis/6uB4...\n",
      "duration_ms                                                  170000.0\n",
      "time_signature                                                    4.0\n",
      "Name: 482, dtype: object\n"
     ]
    }
   ],
   "source": [
    "test_song = df.iloc[4]\n",
    "print(test_song)"
   ]
  },
  {
   "cell_type": "code",
   "execution_count": 84,
   "metadata": {},
   "outputs": [
    {
     "data": {
      "text/html": [
       "<style>#sk-container-id-7 {color: black;}#sk-container-id-7 pre{padding: 0;}#sk-container-id-7 div.sk-toggleable {background-color: white;}#sk-container-id-7 label.sk-toggleable__label {cursor: pointer;display: block;width: 100%;margin-bottom: 0;padding: 0.3em;box-sizing: border-box;text-align: center;}#sk-container-id-7 label.sk-toggleable__label-arrow:before {content: \"▸\";float: left;margin-right: 0.25em;color: #696969;}#sk-container-id-7 label.sk-toggleable__label-arrow:hover:before {color: black;}#sk-container-id-7 div.sk-estimator:hover label.sk-toggleable__label-arrow:before {color: black;}#sk-container-id-7 div.sk-toggleable__content {max-height: 0;max-width: 0;overflow: hidden;text-align: left;background-color: #f0f8ff;}#sk-container-id-7 div.sk-toggleable__content pre {margin: 0.2em;color: black;border-radius: 0.25em;background-color: #f0f8ff;}#sk-container-id-7 input.sk-toggleable__control:checked~div.sk-toggleable__content {max-height: 200px;max-width: 100%;overflow: auto;}#sk-container-id-7 input.sk-toggleable__control:checked~label.sk-toggleable__label-arrow:before {content: \"▾\";}#sk-container-id-7 div.sk-estimator input.sk-toggleable__control:checked~label.sk-toggleable__label {background-color: #d4ebff;}#sk-container-id-7 div.sk-label input.sk-toggleable__control:checked~label.sk-toggleable__label {background-color: #d4ebff;}#sk-container-id-7 input.sk-hidden--visually {border: 0;clip: rect(1px 1px 1px 1px);clip: rect(1px, 1px, 1px, 1px);height: 1px;margin: -1px;overflow: hidden;padding: 0;position: absolute;width: 1px;}#sk-container-id-7 div.sk-estimator {font-family: monospace;background-color: #f0f8ff;border: 1px dotted black;border-radius: 0.25em;box-sizing: border-box;margin-bottom: 0.5em;}#sk-container-id-7 div.sk-estimator:hover {background-color: #d4ebff;}#sk-container-id-7 div.sk-parallel-item::after {content: \"\";width: 100%;border-bottom: 1px solid gray;flex-grow: 1;}#sk-container-id-7 div.sk-label:hover label.sk-toggleable__label {background-color: #d4ebff;}#sk-container-id-7 div.sk-serial::before {content: \"\";position: absolute;border-left: 1px solid gray;box-sizing: border-box;top: 0;bottom: 0;left: 50%;z-index: 0;}#sk-container-id-7 div.sk-serial {display: flex;flex-direction: column;align-items: center;background-color: white;padding-right: 0.2em;padding-left: 0.2em;position: relative;}#sk-container-id-7 div.sk-item {position: relative;z-index: 1;}#sk-container-id-7 div.sk-parallel {display: flex;align-items: stretch;justify-content: center;background-color: white;position: relative;}#sk-container-id-7 div.sk-item::before, #sk-container-id-7 div.sk-parallel-item::before {content: \"\";position: absolute;border-left: 1px solid gray;box-sizing: border-box;top: 0;bottom: 0;left: 50%;z-index: -1;}#sk-container-id-7 div.sk-parallel-item {display: flex;flex-direction: column;z-index: 1;position: relative;background-color: white;}#sk-container-id-7 div.sk-parallel-item:first-child::after {align-self: flex-end;width: 50%;}#sk-container-id-7 div.sk-parallel-item:last-child::after {align-self: flex-start;width: 50%;}#sk-container-id-7 div.sk-parallel-item:only-child::after {width: 0;}#sk-container-id-7 div.sk-dashed-wrapped {border: 1px dashed gray;margin: 0 0.4em 0.5em 0.4em;box-sizing: border-box;padding-bottom: 0.4em;background-color: white;}#sk-container-id-7 div.sk-label label {font-family: monospace;font-weight: bold;display: inline-block;line-height: 1.2em;}#sk-container-id-7 div.sk-label-container {text-align: center;}#sk-container-id-7 div.sk-container {/* jupyter's `normalize.less` sets `[hidden] { display: none; }` but bootstrap.min.css set `[hidden] { display: none !important; }` so we also need the `!important` here to be able to override the default hidden behavior on the sphinx rendered scikit-learn.org. See: https://github.com/scikit-learn/scikit-learn/issues/21755 */display: inline-block !important;position: relative;}#sk-container-id-7 div.sk-text-repr-fallback {display: none;}</style><div id=\"sk-container-id-7\" class=\"sk-top-container\"><div class=\"sk-text-repr-fallback\"><pre>NearestNeighbors(algorithm=&#x27;ball_tree&#x27;, n_neighbors=15)</pre><b>In a Jupyter environment, please rerun this cell to show the HTML representation or trust the notebook. <br />On GitHub, the HTML representation is unable to render, please try loading this page with nbviewer.org.</b></div><div class=\"sk-container\" hidden><div class=\"sk-item\"><div class=\"sk-estimator sk-toggleable\"><input class=\"sk-toggleable__control sk-hidden--visually\" id=\"sk-estimator-id-7\" type=\"checkbox\" checked><label for=\"sk-estimator-id-7\" class=\"sk-toggleable__label sk-toggleable__label-arrow\">NearestNeighbors</label><div class=\"sk-toggleable__content\"><pre>NearestNeighbors(algorithm=&#x27;ball_tree&#x27;, n_neighbors=15)</pre></div></div></div></div></div>"
      ],
      "text/plain": [
       "NearestNeighbors(algorithm='ball_tree', n_neighbors=15)"
      ]
     },
     "execution_count": 84,
     "metadata": {},
     "output_type": "execute_result"
    }
   ],
   "source": [
    "from sklearn.neighbors import NearestNeighbors\n",
    "\n",
    "nn = NearestNeighbors(n_neighbors=15,algorithm=\"ball_tree\")\n",
    "nn.fit(df[features])"
   ]
  },
  {
   "cell_type": "code",
   "execution_count": 89,
   "metadata": {},
   "outputs": [
    {
     "name": "stdout",
     "output_type": "stream",
     "text": [
      "[[0.         0.89734984 0.94367027 1.00158238 1.00239531 1.02497808\n",
      "  1.16492887 1.18397569 1.19044424 1.1956417  1.21619402 1.25543785\n",
      "  1.2988893  1.30352037 1.30517851]]\n",
      "Beyond the Waves  :  Amudo  :  Inconnu  :  0.0\n",
      "Haven  :  ENRA  :  lo-fi study  :  0.8973498350845627\n",
      "Maybe i'm alone  :  Yaiko Kaori  :  Inconnu  :  0.9436702717496348\n",
      "Letter  :  Tesk  :  chillhop  :  1.0015823817582712\n",
      "While We Wait  :  Devon Rea  :  lo-fi sleep  :  1.0023953052095969\n",
      "The Way Back  :  WYS  :  lo-fi beats  :  1.0249780800271757\n",
      "Jasmine  :  C4C  :  chillhop  :  1.164928866276745\n",
      "Nothing  :  Bruno Major  :  singer-songwriter pop  :  1.183975687171821\n",
      "Gone  :  Dimension 32  :  lo-fi sleep  :  1.1904442421963732\n",
      "Nothing Else Matters - Jungle Cruise Version Part 1  :  James Newton Howard  :  orchestral soundtrack  :  1.1956416963530623\n",
      "A Better Place  :  Project AER  :  ambient guitar  :  1.2161940173265655\n",
      "Luar  :  colours in the dark,Beatmund Noise  :  lo-fi sleep  :  1.2554378494554208\n",
      "Dusk  :  Yasumu  :  lo-fi study  :  1.2988893013689577\n",
      "Color Perfume - From \"Hori-san to Miyamura-kun\"  :  Animaddicted  :  Inconnu  :  1.3035203703961598\n",
      "Krystal  :  Matt Maltese  :  indie anthem-folk  :  1.305178508657154\n"
     ]
    },
    {
     "name": "stderr",
     "output_type": "stream",
     "text": [
      "/data/Documents/ING3/cytech/lib/python3.8/site-packages/sklearn/base.py:465: UserWarning: X does not have valid feature names, but NearestNeighbors was fitted with feature names\n",
      "  warnings.warn(\n"
     ]
    }
   ],
   "source": [
    "input_data = [test_song[features]]\n",
    "distances, indices = nn.kneighbors(input_data)\n",
    "\n",
    "\n",
    "\n",
    "for dist,indice in zip(distances[0] ,indices[0]):\n",
    "    name = df.iloc[indice]['trackName']\n",
    "    artiste = df.iloc[indice]['artistName']\n",
    "    genre = df.iloc[indice]['genre']\n",
    "\n",
    "    print(name, \" : \" , artiste, \" : \", genre, \" : \" , dist)\n",
    "\n"
   ]
  },
  {
   "cell_type": "code",
   "execution_count": null,
   "metadata": {},
   "outputs": [],
   "source": []
  }
 ],
 "metadata": {
  "kernelspec": {
   "display_name": "cytech",
   "language": "python",
   "name": "python3"
  },
  "language_info": {
   "codemirror_mode": {
    "name": "ipython",
    "version": 3
   },
   "file_extension": ".py",
   "mimetype": "text/x-python",
   "name": "python",
   "nbconvert_exporter": "python",
   "pygments_lexer": "ipython3",
   "version": "3.8.10"
  }
 },
 "nbformat": 4,
 "nbformat_minor": 2
}
