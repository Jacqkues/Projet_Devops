{
 "cells": [
  {
   "cell_type": "code",
   "execution_count": 62,
   "metadata": {},
   "outputs": [],
   "source": [
    "import pandas as pd\n",
    "from sklearn.preprocessing import StandardScaler"
   ]
  },
  {
   "cell_type": "code",
   "execution_count": 63,
   "metadata": {},
   "outputs": [],
   "source": [
    "df = pd.read_csv('spotify_data.csv')"
   ]
  },
  {
   "cell_type": "code",
   "execution_count": 64,
   "metadata": {},
   "outputs": [
    {
     "data": {
      "text/plain": [
       "trackName              0\n",
       "artistName             0\n",
       "msPlayed               0\n",
       "genre               1500\n",
       "danceability         550\n",
       "energy               550\n",
       "key                  550\n",
       "loudness             550\n",
       "mode                 550\n",
       "speechiness          550\n",
       "acousticness         550\n",
       "instrumentalness     550\n",
       "liveness             550\n",
       "valence              550\n",
       "tempo                550\n",
       "type                 550\n",
       "id                   550\n",
       "uri                  550\n",
       "track_href           550\n",
       "analysis_url         550\n",
       "duration_ms          550\n",
       "time_signature       550\n",
       "dtype: int64"
      ]
     },
     "execution_count": 64,
     "metadata": {},
     "output_type": "execute_result"
    }
   ],
   "source": [
    "#afficher les valeurs null\n",
    "df.isnull().sum()"
   ]
  },
  {
   "cell_type": "code",
   "execution_count": 65,
   "metadata": {},
   "outputs": [
    {
     "data": {
      "text/plain": [
       "trackName            object\n",
       "artistName           object\n",
       "msPlayed              int64\n",
       "genre                object\n",
       "danceability        float64\n",
       "energy              float64\n",
       "key                 float64\n",
       "loudness            float64\n",
       "mode                float64\n",
       "speechiness         float64\n",
       "acousticness        float64\n",
       "instrumentalness    float64\n",
       "liveness            float64\n",
       "valence             float64\n",
       "tempo               float64\n",
       "type                 object\n",
       "id                   object\n",
       "uri                  object\n",
       "track_href           object\n",
       "analysis_url         object\n",
       "duration_ms         float64\n",
       "time_signature      float64\n",
       "dtype: object"
      ]
     },
     "execution_count": 65,
     "metadata": {},
     "output_type": "execute_result"
    }
   ],
   "source": [
    "df.dtypes"
   ]
  },
  {
   "cell_type": "code",
   "execution_count": 66,
   "metadata": {},
   "outputs": [],
   "source": [
    "#changement des genres non connus à inconnu \n",
    "df['genre'].fillna('Inconnu', inplace=True)\n",
    "#suppression des lignes avec des données vides\n",
    "df.dropna(inplace=True)\n",
    "#suppresion des titres en doublons\n",
    "df.drop_duplicates(subset=\"id\",inplace=True)"
   ]
  },
  {
   "cell_type": "code",
   "execution_count": 67,
   "metadata": {},
   "outputs": [],
   "source": [
    "features = ['danceability', 'energy', 'valence', 'tempo', 'acousticness', 'instrumentalness']\n"
   ]
  },
  {
   "cell_type": "code",
   "execution_count": 68,
   "metadata": {},
   "outputs": [],
   "source": [
    "scaler = StandardScaler()\n",
    "df[features] = scaler.fit_transform(df[features])"
   ]
  },
  {
   "cell_type": "code",
   "execution_count": 90,
   "metadata": {},
   "outputs": [
    {
     "name": "stdout",
     "output_type": "stream",
     "text": [
      "trackName                                  (I Just) Died In Your Arms\n",
      "artistName                                               Cutting Crew\n",
      "msPlayed                                                      5504949\n",
      "genre                                                      album rock\n",
      "danceability                                                 0.145416\n",
      "energy                                                        0.66721\n",
      "key                                                              11.0\n",
      "loudness                                                      -11.402\n",
      "mode                                                              0.0\n",
      "speechiness                                                    0.0444\n",
      "acousticness                                                -1.038423\n",
      "instrumentalness                                             -0.48919\n",
      "liveness                                                       0.0625\n",
      "valence                                                      0.303549\n",
      "tempo                                                        0.191725\n",
      "type                                                   audio_features\n",
      "id                                             4ByEFOBuLXpCqvO1kw8Wdm\n",
      "uri                              spotify:track:4ByEFOBuLXpCqvO1kw8Wdm\n",
      "track_href          https://api.spotify.com/v1/tracks/4ByEFOBuLXpC...\n",
      "analysis_url        https://api.spotify.com/v1/audio-analysis/4ByE...\n",
      "duration_ms                                                  280400.0\n",
      "time_signature                                                    4.0\n",
      "Name: 4, dtype: object\n"
     ]
    }
   ],
   "source": [
    "test_song = df.iloc[4]\n",
    "print(test_song)"
   ]
  },
  {
   "cell_type": "code",
   "execution_count": 91,
   "metadata": {},
   "outputs": [
    {
     "data": {
      "text/html": [
       "<style>#sk-container-id-8 {color: black;}#sk-container-id-8 pre{padding: 0;}#sk-container-id-8 div.sk-toggleable {background-color: white;}#sk-container-id-8 label.sk-toggleable__label {cursor: pointer;display: block;width: 100%;margin-bottom: 0;padding: 0.3em;box-sizing: border-box;text-align: center;}#sk-container-id-8 label.sk-toggleable__label-arrow:before {content: \"▸\";float: left;margin-right: 0.25em;color: #696969;}#sk-container-id-8 label.sk-toggleable__label-arrow:hover:before {color: black;}#sk-container-id-8 div.sk-estimator:hover label.sk-toggleable__label-arrow:before {color: black;}#sk-container-id-8 div.sk-toggleable__content {max-height: 0;max-width: 0;overflow: hidden;text-align: left;background-color: #f0f8ff;}#sk-container-id-8 div.sk-toggleable__content pre {margin: 0.2em;color: black;border-radius: 0.25em;background-color: #f0f8ff;}#sk-container-id-8 input.sk-toggleable__control:checked~div.sk-toggleable__content {max-height: 200px;max-width: 100%;overflow: auto;}#sk-container-id-8 input.sk-toggleable__control:checked~label.sk-toggleable__label-arrow:before {content: \"▾\";}#sk-container-id-8 div.sk-estimator input.sk-toggleable__control:checked~label.sk-toggleable__label {background-color: #d4ebff;}#sk-container-id-8 div.sk-label input.sk-toggleable__control:checked~label.sk-toggleable__label {background-color: #d4ebff;}#sk-container-id-8 input.sk-hidden--visually {border: 0;clip: rect(1px 1px 1px 1px);clip: rect(1px, 1px, 1px, 1px);height: 1px;margin: -1px;overflow: hidden;padding: 0;position: absolute;width: 1px;}#sk-container-id-8 div.sk-estimator {font-family: monospace;background-color: #f0f8ff;border: 1px dotted black;border-radius: 0.25em;box-sizing: border-box;margin-bottom: 0.5em;}#sk-container-id-8 div.sk-estimator:hover {background-color: #d4ebff;}#sk-container-id-8 div.sk-parallel-item::after {content: \"\";width: 100%;border-bottom: 1px solid gray;flex-grow: 1;}#sk-container-id-8 div.sk-label:hover label.sk-toggleable__label {background-color: #d4ebff;}#sk-container-id-8 div.sk-serial::before {content: \"\";position: absolute;border-left: 1px solid gray;box-sizing: border-box;top: 0;bottom: 0;left: 50%;z-index: 0;}#sk-container-id-8 div.sk-serial {display: flex;flex-direction: column;align-items: center;background-color: white;padding-right: 0.2em;padding-left: 0.2em;position: relative;}#sk-container-id-8 div.sk-item {position: relative;z-index: 1;}#sk-container-id-8 div.sk-parallel {display: flex;align-items: stretch;justify-content: center;background-color: white;position: relative;}#sk-container-id-8 div.sk-item::before, #sk-container-id-8 div.sk-parallel-item::before {content: \"\";position: absolute;border-left: 1px solid gray;box-sizing: border-box;top: 0;bottom: 0;left: 50%;z-index: -1;}#sk-container-id-8 div.sk-parallel-item {display: flex;flex-direction: column;z-index: 1;position: relative;background-color: white;}#sk-container-id-8 div.sk-parallel-item:first-child::after {align-self: flex-end;width: 50%;}#sk-container-id-8 div.sk-parallel-item:last-child::after {align-self: flex-start;width: 50%;}#sk-container-id-8 div.sk-parallel-item:only-child::after {width: 0;}#sk-container-id-8 div.sk-dashed-wrapped {border: 1px dashed gray;margin: 0 0.4em 0.5em 0.4em;box-sizing: border-box;padding-bottom: 0.4em;background-color: white;}#sk-container-id-8 div.sk-label label {font-family: monospace;font-weight: bold;display: inline-block;line-height: 1.2em;}#sk-container-id-8 div.sk-label-container {text-align: center;}#sk-container-id-8 div.sk-container {/* jupyter's `normalize.less` sets `[hidden] { display: none; }` but bootstrap.min.css set `[hidden] { display: none !important; }` so we also need the `!important` here to be able to override the default hidden behavior on the sphinx rendered scikit-learn.org. See: https://github.com/scikit-learn/scikit-learn/issues/21755 */display: inline-block !important;position: relative;}#sk-container-id-8 div.sk-text-repr-fallback {display: none;}</style><div id=\"sk-container-id-8\" class=\"sk-top-container\"><div class=\"sk-text-repr-fallback\"><pre>NearestNeighbors(algorithm=&#x27;ball_tree&#x27;, n_neighbors=15)</pre><b>In a Jupyter environment, please rerun this cell to show the HTML representation or trust the notebook. <br />On GitHub, the HTML representation is unable to render, please try loading this page with nbviewer.org.</b></div><div class=\"sk-container\" hidden><div class=\"sk-item\"><div class=\"sk-estimator sk-toggleable\"><input class=\"sk-toggleable__control sk-hidden--visually\" id=\"sk-estimator-id-8\" type=\"checkbox\" checked><label for=\"sk-estimator-id-8\" class=\"sk-toggleable__label sk-toggleable__label-arrow\">NearestNeighbors</label><div class=\"sk-toggleable__content\"><pre>NearestNeighbors(algorithm=&#x27;ball_tree&#x27;, n_neighbors=15)</pre></div></div></div></div></div>"
      ],
      "text/plain": [
       "NearestNeighbors(algorithm='ball_tree', n_neighbors=15)"
      ]
     },
     "execution_count": 91,
     "metadata": {},
     "output_type": "execute_result"
    }
   ],
   "source": [
    "from sklearn.neighbors import NearestNeighbors\n",
    "\n",
    "nn = NearestNeighbors(n_neighbors=15,algorithm=\"ball_tree\")\n",
    "nn.fit(df[features])"
   ]
  },
  {
   "cell_type": "code",
   "execution_count": 92,
   "metadata": {},
   "outputs": [
    {
     "name": "stdout",
     "output_type": "stream",
     "text": [
      "(I Just) Died In Your Arms  :  Cutting Crew  :  album rock  :  0.0\n",
      "Parabola  :  Official HIGE DANdism  :  anime  :  0.2559777621742189\n",
      "Moon Child  :  The F16s  :  chennai indie  :  0.3021477484052409\n",
      "More Than You Know  :  Axwell /\\ Ingrosso  :  edm  :  0.3106938059861932\n",
      "Counting Stars  :  OneRepublic  :  piano rock  :  0.3406466827065603\n",
      "Pappu Can't Dance  :  Benny Dayal  :  filmi  :  0.35127337052522867\n",
      "Electric Love  :  BØRNS  :  indie poptimism  :  0.3527945182320456\n",
      "i miss u (with Au/Ra)  :  Jax Jones  :  dance pop  :  0.3598324545060321\n",
      "Underwater  :  GOLDHOUSE  :  pop edm  :  0.3656372974806648\n",
      "Dandelions  :  Ruth B.  :  alt z  :  0.39151739787825546\n",
      "Electricity (with Dua Lipa)  :  Silk City  :  edm  :  0.4036253940877645\n",
      "Ghost Town  :  Layto  :  dark r&b  :  0.4230714141487156\n",
      "Miracle  :  CHVRCHES  :  indietronica  :  0.451823508332243\n",
      "Shinkai  :  Eve  :  anime  :  0.45339163647166636\n",
      "Quarterback  :  Wallows  :  pov: indie  :  0.4758240050288081\n"
     ]
    },
    {
     "name": "stderr",
     "output_type": "stream",
     "text": [
      "/data/Documents/ING3/cytech/lib/python3.8/site-packages/sklearn/base.py:465: UserWarning: X does not have valid feature names, but NearestNeighbors was fitted with feature names\n",
      "  warnings.warn(\n"
     ]
    }
   ],
   "source": [
    "input_data = [test_song[features]]\n",
    "distances, indices = nn.kneighbors(input_data)\n",
    "\n",
    "\n",
    "\n",
    "for dist,indice in zip(distances[0] ,indices[0]):\n",
    "    name = df.iloc[indice]['trackName']\n",
    "    artiste = df.iloc[indice]['artistName']\n",
    "    genre = df.iloc[indice]['genre']\n",
    "\n",
    "    print(name, \" : \" , artiste, \" : \", genre, \" : \" , dist)\n",
    "\n"
   ]
  },
  {
   "cell_type": "code",
   "execution_count": null,
   "metadata": {},
   "outputs": [],
   "source": []
  }
 ],
 "metadata": {
  "kernelspec": {
   "display_name": "cytech",
   "language": "python",
   "name": "python3"
  },
  "language_info": {
   "codemirror_mode": {
    "name": "ipython",
    "version": 3
   },
   "file_extension": ".py",
   "mimetype": "text/x-python",
   "name": "python",
   "nbconvert_exporter": "python",
   "pygments_lexer": "ipython3",
   "version": "3.8.10"
  }
 },
 "nbformat": 4,
 "nbformat_minor": 2
}
