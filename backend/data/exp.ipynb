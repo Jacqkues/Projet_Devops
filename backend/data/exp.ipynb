{
 "cells": [
  {
   "cell_type": "code",
   "execution_count": 2,
   "metadata": {},
   "outputs": [],
   "source": [
    "import pandas as pd\n",
    "from sklearn.preprocessing import StandardScaler"
   ]
  },
  {
   "cell_type": "code",
   "execution_count": 3,
   "metadata": {},
   "outputs": [],
   "source": [
    "df = pd.read_csv('spotify_data.csv')"
   ]
  },
  {
   "cell_type": "code",
   "execution_count": 4,
   "metadata": {},
   "outputs": [
    {
     "data": {
      "text/plain": [
       "trackName              0\n",
       "artistName             0\n",
       "msPlayed               0\n",
       "genre               1500\n",
       "danceability         550\n",
       "energy               550\n",
       "key                  550\n",
       "loudness             550\n",
       "mode                 550\n",
       "speechiness          550\n",
       "acousticness         550\n",
       "instrumentalness     550\n",
       "liveness             550\n",
       "valence              550\n",
       "tempo                550\n",
       "type                 550\n",
       "id                   550\n",
       "uri                  550\n",
       "track_href           550\n",
       "analysis_url         550\n",
       "duration_ms          550\n",
       "time_signature       550\n",
       "dtype: int64"
      ]
     },
     "execution_count": 4,
     "metadata": {},
     "output_type": "execute_result"
    }
   ],
   "source": [
    "#afficher les valeurs null\n",
    "df.isnull().sum()"
   ]
  },
  {
   "cell_type": "code",
   "execution_count": 5,
   "metadata": {},
   "outputs": [
    {
     "data": {
      "text/plain": [
       "trackName            object\n",
       "artistName           object\n",
       "msPlayed              int64\n",
       "genre                object\n",
       "danceability        float64\n",
       "energy              float64\n",
       "key                 float64\n",
       "loudness            float64\n",
       "mode                float64\n",
       "speechiness         float64\n",
       "acousticness        float64\n",
       "instrumentalness    float64\n",
       "liveness            float64\n",
       "valence             float64\n",
       "tempo               float64\n",
       "type                 object\n",
       "id                   object\n",
       "uri                  object\n",
       "track_href           object\n",
       "analysis_url         object\n",
       "duration_ms         float64\n",
       "time_signature      float64\n",
       "dtype: object"
      ]
     },
     "execution_count": 5,
     "metadata": {},
     "output_type": "execute_result"
    }
   ],
   "source": [
    "df.dtypes"
   ]
  },
  {
   "cell_type": "code",
   "execution_count": 6,
   "metadata": {},
   "outputs": [],
   "source": [
    "#changement des genres non connus à inconnu \n",
    "df['genre'].fillna('Inconnu', inplace=True)\n",
    "#suppression des lignes avec des données vides\n",
    "df.dropna(inplace=True)\n",
    "#suppresion des titres en doublons\n",
    "df.drop_duplicates(subset=\"id\",inplace=True)"
   ]
  },
  {
   "cell_type": "code",
   "execution_count": 7,
   "metadata": {},
   "outputs": [],
   "source": [
    "features = ['danceability', 'energy', 'valence', 'tempo', 'acousticness', 'instrumentalness']\n"
   ]
  },
  {
   "cell_type": "code",
   "execution_count": 12,
   "metadata": {},
   "outputs": [
    {
     "name": "stdout",
     "output_type": "stream",
     "text": [
      "      danceability    energy   valence     tempo  acousticness   \n",
      "0        -0.799178  0.966954  0.592193  1.473524     -1.037227  \\\n",
      "1        -0.805517 -1.780018 -1.283998 -0.246087      1.652973   \n",
      "2         0.563826  1.028546  0.311796  0.435272     -1.036629   \n",
      "3         0.139076  0.133419  1.907589  0.054702      0.334482   \n",
      "4         0.145416  0.667210  0.303549  0.191725     -1.038423   \n",
      "...            ...       ...       ...       ...           ...   \n",
      "5034      0.906162 -0.355206  0.085003  0.574604     -0.481727   \n",
      "5035     -0.412465 -1.726639 -0.776808  0.404462      1.787513   \n",
      "5037     -2.029051 -1.665047 -0.764437 -1.868891      0.223860   \n",
      "5038      0.189793 -1.147680 -0.929377  0.353596      1.700810   \n",
      "5039     -0.266655 -0.901315 -0.022208 -0.137461      1.503484   \n",
      "\n",
      "      instrumentalness  \n",
      "0            -0.489729  \n",
      "1             2.563261  \n",
      "2            -0.489729  \n",
      "3             0.158552  \n",
      "4            -0.489190  \n",
      "...                ...  \n",
      "5034         -0.489729  \n",
      "5035         -0.471463  \n",
      "5037         -0.061800  \n",
      "5038         -0.488209  \n",
      "5039         -0.485035  \n",
      "\n",
      "[4736 rows x 6 columns]\n"
     ]
    }
   ],
   "source": [
    "scaler = StandardScaler()\n",
    "df[features] = scaler.fit_transform(df[features])\n",
    "print(df[features])"
   ]
  },
  {
   "cell_type": "code",
   "execution_count": 9,
   "metadata": {},
   "outputs": [
    {
     "name": "stdout",
     "output_type": "stream",
     "text": [
      "trackName                                  (I Just) Died In Your Arms\n",
      "artistName                                               Cutting Crew\n",
      "msPlayed                                                      5504949\n",
      "genre                                                      album rock\n",
      "danceability                                                 0.145416\n",
      "energy                                                        0.66721\n",
      "key                                                              11.0\n",
      "loudness                                                      -11.402\n",
      "mode                                                              0.0\n",
      "speechiness                                                    0.0444\n",
      "acousticness                                                -1.038423\n",
      "instrumentalness                                             -0.48919\n",
      "liveness                                                       0.0625\n",
      "valence                                                      0.303549\n",
      "tempo                                                        0.191725\n",
      "type                                                   audio_features\n",
      "id                                             4ByEFOBuLXpCqvO1kw8Wdm\n",
      "uri                              spotify:track:4ByEFOBuLXpCqvO1kw8Wdm\n",
      "track_href          https://api.spotify.com/v1/tracks/4ByEFOBuLXpC...\n",
      "analysis_url        https://api.spotify.com/v1/audio-analysis/4ByE...\n",
      "duration_ms                                                  280400.0\n",
      "time_signature                                                    4.0\n",
      "Name: 4, dtype: object\n"
     ]
    }
   ],
   "source": [
    "test_song = df.iloc[4]\n",
    "print(test_song)"
   ]
  },
  {
   "cell_type": "code",
   "execution_count": 10,
   "metadata": {},
   "outputs": [
    {
     "data": {
      "text/html": [
       "<style>#sk-container-id-1 {color: black;}#sk-container-id-1 pre{padding: 0;}#sk-container-id-1 div.sk-toggleable {background-color: white;}#sk-container-id-1 label.sk-toggleable__label {cursor: pointer;display: block;width: 100%;margin-bottom: 0;padding: 0.3em;box-sizing: border-box;text-align: center;}#sk-container-id-1 label.sk-toggleable__label-arrow:before {content: \"▸\";float: left;margin-right: 0.25em;color: #696969;}#sk-container-id-1 label.sk-toggleable__label-arrow:hover:before {color: black;}#sk-container-id-1 div.sk-estimator:hover label.sk-toggleable__label-arrow:before {color: black;}#sk-container-id-1 div.sk-toggleable__content {max-height: 0;max-width: 0;overflow: hidden;text-align: left;background-color: #f0f8ff;}#sk-container-id-1 div.sk-toggleable__content pre {margin: 0.2em;color: black;border-radius: 0.25em;background-color: #f0f8ff;}#sk-container-id-1 input.sk-toggleable__control:checked~div.sk-toggleable__content {max-height: 200px;max-width: 100%;overflow: auto;}#sk-container-id-1 input.sk-toggleable__control:checked~label.sk-toggleable__label-arrow:before {content: \"▾\";}#sk-container-id-1 div.sk-estimator input.sk-toggleable__control:checked~label.sk-toggleable__label {background-color: #d4ebff;}#sk-container-id-1 div.sk-label input.sk-toggleable__control:checked~label.sk-toggleable__label {background-color: #d4ebff;}#sk-container-id-1 input.sk-hidden--visually {border: 0;clip: rect(1px 1px 1px 1px);clip: rect(1px, 1px, 1px, 1px);height: 1px;margin: -1px;overflow: hidden;padding: 0;position: absolute;width: 1px;}#sk-container-id-1 div.sk-estimator {font-family: monospace;background-color: #f0f8ff;border: 1px dotted black;border-radius: 0.25em;box-sizing: border-box;margin-bottom: 0.5em;}#sk-container-id-1 div.sk-estimator:hover {background-color: #d4ebff;}#sk-container-id-1 div.sk-parallel-item::after {content: \"\";width: 100%;border-bottom: 1px solid gray;flex-grow: 1;}#sk-container-id-1 div.sk-label:hover label.sk-toggleable__label {background-color: #d4ebff;}#sk-container-id-1 div.sk-serial::before {content: \"\";position: absolute;border-left: 1px solid gray;box-sizing: border-box;top: 0;bottom: 0;left: 50%;z-index: 0;}#sk-container-id-1 div.sk-serial {display: flex;flex-direction: column;align-items: center;background-color: white;padding-right: 0.2em;padding-left: 0.2em;position: relative;}#sk-container-id-1 div.sk-item {position: relative;z-index: 1;}#sk-container-id-1 div.sk-parallel {display: flex;align-items: stretch;justify-content: center;background-color: white;position: relative;}#sk-container-id-1 div.sk-item::before, #sk-container-id-1 div.sk-parallel-item::before {content: \"\";position: absolute;border-left: 1px solid gray;box-sizing: border-box;top: 0;bottom: 0;left: 50%;z-index: -1;}#sk-container-id-1 div.sk-parallel-item {display: flex;flex-direction: column;z-index: 1;position: relative;background-color: white;}#sk-container-id-1 div.sk-parallel-item:first-child::after {align-self: flex-end;width: 50%;}#sk-container-id-1 div.sk-parallel-item:last-child::after {align-self: flex-start;width: 50%;}#sk-container-id-1 div.sk-parallel-item:only-child::after {width: 0;}#sk-container-id-1 div.sk-dashed-wrapped {border: 1px dashed gray;margin: 0 0.4em 0.5em 0.4em;box-sizing: border-box;padding-bottom: 0.4em;background-color: white;}#sk-container-id-1 div.sk-label label {font-family: monospace;font-weight: bold;display: inline-block;line-height: 1.2em;}#sk-container-id-1 div.sk-label-container {text-align: center;}#sk-container-id-1 div.sk-container {/* jupyter's `normalize.less` sets `[hidden] { display: none; }` but bootstrap.min.css set `[hidden] { display: none !important; }` so we also need the `!important` here to be able to override the default hidden behavior on the sphinx rendered scikit-learn.org. See: https://github.com/scikit-learn/scikit-learn/issues/21755 */display: inline-block !important;position: relative;}#sk-container-id-1 div.sk-text-repr-fallback {display: none;}</style><div id=\"sk-container-id-1\" class=\"sk-top-container\"><div class=\"sk-text-repr-fallback\"><pre>NearestNeighbors(algorithm=&#x27;ball_tree&#x27;, n_neighbors=15)</pre><b>In a Jupyter environment, please rerun this cell to show the HTML representation or trust the notebook. <br />On GitHub, the HTML representation is unable to render, please try loading this page with nbviewer.org.</b></div><div class=\"sk-container\" hidden><div class=\"sk-item\"><div class=\"sk-estimator sk-toggleable\"><input class=\"sk-toggleable__control sk-hidden--visually\" id=\"sk-estimator-id-1\" type=\"checkbox\" checked><label for=\"sk-estimator-id-1\" class=\"sk-toggleable__label sk-toggleable__label-arrow\">NearestNeighbors</label><div class=\"sk-toggleable__content\"><pre>NearestNeighbors(algorithm=&#x27;ball_tree&#x27;, n_neighbors=15)</pre></div></div></div></div></div>"
      ],
      "text/plain": [
       "NearestNeighbors(algorithm='ball_tree', n_neighbors=15)"
      ]
     },
     "execution_count": 10,
     "metadata": {},
     "output_type": "execute_result"
    }
   ],
   "source": [
    "from sklearn.neighbors import NearestNeighbors\n",
    "\n",
    "nn = NearestNeighbors(n_neighbors=15,algorithm=\"ball_tree\")\n",
    "nn.fit(df[features])"
   ]
  },
  {
   "cell_type": "code",
   "execution_count": 11,
   "metadata": {},
   "outputs": [
    {
     "name": "stdout",
     "output_type": "stream",
     "text": [
      "[danceability        0.145416\n",
      "energy               0.66721\n",
      "valence             0.303549\n",
      "tempo               0.191725\n",
      "acousticness       -1.038423\n",
      "instrumentalness    -0.48919\n",
      "Name: 4, dtype: object]\n",
      "////////////////////////\n",
      "(I Just) Died In Your Arms  :  Cutting Crew  :  album rock  :  0.0\n",
      "Parabola  :  Official HIGE DANdism  :  anime  :  0.2559777621742189\n",
      "Moon Child  :  The F16s  :  chennai indie  :  0.3021477484052409\n",
      "More Than You Know  :  Axwell /\\ Ingrosso  :  edm  :  0.3106938059861932\n",
      "Counting Stars  :  OneRepublic  :  piano rock  :  0.3406466827065603\n",
      "Pappu Can't Dance  :  Benny Dayal  :  filmi  :  0.35127337052522867\n",
      "Electric Love  :  BØRNS  :  indie poptimism  :  0.3527945182320456\n",
      "i miss u (with Au/Ra)  :  Jax Jones  :  dance pop  :  0.3598324545060321\n",
      "Underwater  :  GOLDHOUSE  :  pop edm  :  0.3656372974806648\n",
      "Dandelions  :  Ruth B.  :  alt z  :  0.39151739787825546\n",
      "Electricity (with Dua Lipa)  :  Silk City  :  edm  :  0.4036253940877645\n",
      "Ghost Town  :  Layto  :  dark r&b  :  0.4230714141487156\n",
      "Miracle  :  CHVRCHES  :  indietronica  :  0.451823508332243\n",
      "Shinkai  :  Eve  :  anime  :  0.45339163647166636\n",
      "Quarterback  :  Wallows  :  pov: indie  :  0.4758240050288081\n"
     ]
    },
    {
     "name": "stderr",
     "output_type": "stream",
     "text": [
      "/home/cytech/.local/lib/python3.8/site-packages/sklearn/base.py:465: UserWarning: X does not have valid feature names, but NearestNeighbors was fitted with feature names\n",
      "  warnings.warn(\n"
     ]
    }
   ],
   "source": [
    "input_data = [test_song[features]]\n",
    "print(input_data)\n",
    "print(\"////////////////////////\")\n",
    "distances, indices = nn.kneighbors(input_data)\n",
    "\n",
    "\n",
    "\n",
    "for dist,indice in zip(distances[0] ,indices[0]):\n",
    "    name = df.iloc[indice]['trackName']\n",
    "    artiste = df.iloc[indice]['artistName']\n",
    "    genre = df.iloc[indice]['genre']\n",
    "\n",
    "    print(name, \" : \" , artiste, \" : \", genre, \" : \" , dist)\n",
    "\n"
   ]
  },
  {
   "cell_type": "code",
   "execution_count": 18,
   "metadata": {},
   "outputs": [],
   "source": [
    "def generate_playlist(data_source,input_song,K,features=['danceability', 'energy', 'valence', 'tempo', 'acousticness', 'instrumentalness']):\n",
    "\n",
    "    nn = NearestNeighbors(n_neighbors=K,algorithm=\"ball_tree\")\n",
    "    nn.fit(data_source[features])\n",
    "\n",
    "    scaler = StandardScaler()\n",
    "    # input_song[features] = scaler.fit_transform(input_song[features])\n",
    "    #input_data = [input_song[features]]\n",
    "\n",
    "    distances, indices = nn.kneighbors(input_data)\n",
    "\n",
    "    output = []\n",
    "    for dist,indice in zip(distances[0] ,indices[0]):\n",
    "        output.append({\n",
    "            \"song_name\": data_source.iloc[indice]['trackName'],\n",
    "            \"artiste_name\": data_source.iloc[indice]['artistName'],\n",
    "            \"song_genre\" : data_source.iloc[indice]['genre'],\n",
    "            \"song_distance\": dist\n",
    "        })\n",
    "    return output"
   ]
  },
  {
   "cell_type": "code",
   "execution_count": 19,
   "metadata": {},
   "outputs": [
    {
     "name": "stderr",
     "output_type": "stream",
     "text": [
      "/home/cytech/.local/lib/python3.8/site-packages/sklearn/base.py:465: UserWarning: X does not have valid feature names, but NearestNeighbors was fitted with feature names\n",
      "  warnings.warn(\n"
     ]
    },
    {
     "data": {
      "text/plain": [
       "[{'song_name': '(I Just) Died In Your Arms',\n",
       "  'artiste_name': 'Cutting Crew',\n",
       "  'song_genre': 'album rock',\n",
       "  'song_distance': 2.884444029575346e-16},\n",
       " {'song_name': 'Parabola',\n",
       "  'artiste_name': 'Official HIGE DANdism',\n",
       "  'song_genre': 'anime',\n",
       "  'song_distance': 0.2559777621742192},\n",
       " {'song_name': 'Moon Child',\n",
       "  'artiste_name': 'The F16s',\n",
       "  'song_genre': 'chennai indie',\n",
       "  'song_distance': 0.3021477484052409},\n",
       " {'song_name': 'More Than You Know',\n",
       "  'artiste_name': 'Axwell /\\\\ Ingrosso',\n",
       "  'song_genre': 'edm',\n",
       "  'song_distance': 0.3106938059861932},\n",
       " {'song_name': 'Counting Stars',\n",
       "  'artiste_name': 'OneRepublic',\n",
       "  'song_genre': 'piano rock',\n",
       "  'song_distance': 0.3406466827065601},\n",
       " {'song_name': \"Pappu Can't Dance\",\n",
       "  'artiste_name': 'Benny Dayal',\n",
       "  'song_genre': 'filmi',\n",
       "  'song_distance': 0.35127337052522856},\n",
       " {'song_name': 'Electric Love',\n",
       "  'artiste_name': 'BØRNS',\n",
       "  'song_genre': 'indie poptimism',\n",
       "  'song_distance': 0.3527945182320459},\n",
       " {'song_name': 'i miss u (with Au/Ra)',\n",
       "  'artiste_name': 'Jax Jones',\n",
       "  'song_genre': 'dance pop',\n",
       "  'song_distance': 0.35983245450603196},\n",
       " {'song_name': 'Underwater',\n",
       "  'artiste_name': 'GOLDHOUSE',\n",
       "  'song_genre': 'pop edm',\n",
       "  'song_distance': 0.36563729748066476},\n",
       " {'song_name': 'Dandelions',\n",
       "  'artiste_name': 'Ruth B.',\n",
       "  'song_genre': 'alt z',\n",
       "  'song_distance': 0.3915173978782555},\n",
       " {'song_name': 'Electricity (with Dua Lipa)',\n",
       "  'artiste_name': 'Silk City',\n",
       "  'song_genre': 'edm',\n",
       "  'song_distance': 0.40362539408776454},\n",
       " {'song_name': 'Ghost Town',\n",
       "  'artiste_name': 'Layto',\n",
       "  'song_genre': 'dark r&b',\n",
       "  'song_distance': 0.4230714141487154},\n",
       " {'song_name': 'Miracle',\n",
       "  'artiste_name': 'CHVRCHES',\n",
       "  'song_genre': 'indietronica',\n",
       "  'song_distance': 0.4518235083322431},\n",
       " {'song_name': 'Shinkai',\n",
       "  'artiste_name': 'Eve',\n",
       "  'song_genre': 'anime',\n",
       "  'song_distance': 0.4533916364716665},\n",
       " {'song_name': 'Quarterback',\n",
       "  'artiste_name': 'Wallows',\n",
       "  'song_genre': 'pov: indie',\n",
       "  'song_distance': 0.47582400502880806}]"
      ]
     },
     "execution_count": 19,
     "metadata": {},
     "output_type": "execute_result"
    }
   ],
   "source": [
    "generate_playlist(df,test_song,15,features)"
   ]
  },
  {
   "cell_type": "code",
   "execution_count": null,
   "metadata": {},
   "outputs": [],
   "source": []
  }
 ],
 "metadata": {
  "kernelspec": {
   "display_name": "cytech",
   "language": "python",
   "name": "python3"
  },
  "language_info": {
   "codemirror_mode": {
    "name": "ipython",
    "version": 3
   },
   "file_extension": ".py",
   "mimetype": "text/x-python",
   "name": "python",
   "nbconvert_exporter": "python",
   "pygments_lexer": "ipython3",
   "version": "3.8.10"
  }
 },
 "nbformat": 4,
 "nbformat_minor": 2
}
